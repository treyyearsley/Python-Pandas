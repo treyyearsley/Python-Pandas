{
 "cells": [
  {
   "cell_type": "code",
   "execution_count": 1,
   "id": "d7354091",
   "metadata": {
    "execution": {
     "iopub.execute_input": "2023-11-24T19:35:32.470813Z",
     "iopub.status.busy": "2023-11-24T19:35:32.470212Z",
     "iopub.status.idle": "2023-11-24T19:35:32.866866Z",
     "shell.execute_reply": "2023-11-24T19:35:32.865668Z"
    },
    "papermill": {
     "duration": 0.411426,
     "end_time": "2023-11-24T19:35:32.869823",
     "exception": false,
     "start_time": "2023-11-24T19:35:32.458397",
     "status": "completed"
    },
    "tags": []
   },
   "outputs": [],
   "source": [
    "import pandas as pd\n",
    "import numpy as np\n",
    "import matplotlib.pyplot as plt"
   ]
  },
  {
   "cell_type": "markdown",
   "id": "af5f620d",
   "metadata": {
    "papermill": {
     "duration": 0.008998,
     "end_time": "2023-11-24T19:35:32.888330",
     "exception": false,
     "start_time": "2023-11-24T19:35:32.879332",
     "status": "completed"
    },
    "tags": []
   },
   "source": [
    "# Questions"
   ]
  },
  {
   "cell_type": "markdown",
   "id": "5ad41b08",
   "metadata": {
    "papermill": {
     "duration": 0.009283,
     "end_time": "2023-11-24T19:35:32.907296",
     "exception": false,
     "start_time": "2023-11-24T19:35:32.898013",
     "status": "completed"
    },
    "tags": []
   },
   "source": [
    "# What is Oregon's wins vs losses in bowl games from 1902 - 2022?\n"
   ]
  },
  {
   "cell_type": "markdown",
   "id": "3ebbaba3",
   "metadata": {
    "papermill": {
     "duration": 0.009138,
     "end_time": "2023-11-24T19:35:32.925957",
     "exception": false,
     "start_time": "2023-11-24T19:35:32.916819",
     "status": "completed"
    },
    "tags": []
   },
   "source": [
    "#Oregon's bowl game record from 1902-2022 is 15 wins to 20 loses."
   ]
  },
  {
   "cell_type": "markdown",
   "id": "1a214feb",
   "metadata": {
    "papermill": {
     "duration": 0.009048,
     "end_time": "2023-11-24T19:35:32.944361",
     "exception": false,
     "start_time": "2023-11-24T19:35:32.935313",
     "status": "completed"
    },
    "tags": []
   },
   "source": [
    "# What bowl game has Oregon appeared in most often?\n"
   ]
  },
  {
   "cell_type": "markdown",
   "id": "140e5f70",
   "metadata": {
    "papermill": {
     "duration": 0.009272,
     "end_time": "2023-11-24T19:35:32.963392",
     "exception": false,
     "start_time": "2023-11-24T19:35:32.954120",
     "status": "completed"
    },
    "tags": []
   },
   "source": [
    "#Oregon has appeared in the Rose bowl the most often with eigth appearances."
   ]
  },
  {
   "cell_type": "markdown",
   "id": "ace77886",
   "metadata": {
    "papermill": {
     "duration": 0.009668,
     "end_time": "2023-11-24T19:35:32.982872",
     "exception": false,
     "start_time": "2023-11-24T19:35:32.973204",
     "status": "completed"
    },
    "tags": []
   },
   "source": [
    "# What is the average point differential in a bowl game Oregon has lost?"
   ]
  },
  {
   "cell_type": "markdown",
   "id": "45632d1a",
   "metadata": {
    "papermill": {
     "duration": 0.009439,
     "end_time": "2023-11-24T19:35:33.002063",
     "exception": false,
     "start_time": "2023-11-24T19:35:32.992624",
     "status": "completed"
    },
    "tags": []
   },
   "source": [
    "#The average point differential in a bowl game Oregon has lost is 12.05 points."
   ]
  },
  {
   "cell_type": "markdown",
   "id": "9cbfba53",
   "metadata": {
    "papermill": {
     "duration": 0.009275,
     "end_time": "2023-11-24T19:35:33.020785",
     "exception": false,
     "start_time": "2023-11-24T19:35:33.011510",
     "status": "completed"
    },
    "tags": []
   },
   "source": [
    "# What is the average point differential in a bowl game Oregon has won?"
   ]
  },
  {
   "cell_type": "markdown",
   "id": "1386ee58",
   "metadata": {
    "papermill": {
     "duration": 0.009412,
     "end_time": "2023-11-24T19:35:33.039725",
     "exception": false,
     "start_time": "2023-11-24T19:35:33.030313",
     "status": "completed"
    },
    "tags": []
   },
   "source": [
    "#The average point differential in a bowl game Oregon has won is 14.53 points."
   ]
  },
  {
   "cell_type": "markdown",
   "id": "deddcbc6",
   "metadata": {
    "papermill": {
     "duration": 0.009276,
     "end_time": "2023-11-24T19:35:33.058933",
     "exception": false,
     "start_time": "2023-11-24T19:35:33.049657",
     "status": "completed"
    },
    "tags": []
   },
   "source": [
    "# Read in the Data"
   ]
  },
  {
   "cell_type": "code",
   "execution_count": 2,
   "id": "6867f855",
   "metadata": {
    "execution": {
     "iopub.execute_input": "2023-11-24T19:35:33.080474Z",
     "iopub.status.busy": "2023-11-24T19:35:33.079643Z",
     "iopub.status.idle": "2023-11-24T19:35:33.128367Z",
     "shell.execute_reply": "2023-11-24T19:35:33.127578Z"
    },
    "papermill": {
     "duration": 0.061887,
     "end_time": "2023-11-24T19:35:33.130712",
     "exception": false,
     "start_time": "2023-11-24T19:35:33.068825",
     "status": "completed"
    },
    "tags": []
   },
   "outputs": [],
   "source": [
    "df = pd.read_csv(\"/kaggle/input/college-football-bowl-games-1902-2022/collegefootballbowl.csv\")"
   ]
  },
  {
   "cell_type": "code",
   "execution_count": 3,
   "id": "0e729e5e",
   "metadata": {
    "execution": {
     "iopub.execute_input": "2023-11-24T19:35:33.150961Z",
     "iopub.status.busy": "2023-11-24T19:35:33.149989Z",
     "iopub.status.idle": "2023-11-24T19:35:33.176430Z",
     "shell.execute_reply": "2023-11-24T19:35:33.175714Z"
    },
    "papermill": {
     "duration": 0.038224,
     "end_time": "2023-11-24T19:35:33.178423",
     "exception": false,
     "start_time": "2023-11-24T19:35:33.140199",
     "status": "completed"
    },
    "tags": []
   },
   "outputs": [
    {
     "data": {
      "text/html": [
       "<div>\n",
       "<style scoped>\n",
       "    .dataframe tbody tr th:only-of-type {\n",
       "        vertical-align: middle;\n",
       "    }\n",
       "\n",
       "    .dataframe tbody tr th {\n",
       "        vertical-align: top;\n",
       "    }\n",
       "\n",
       "    .dataframe thead th {\n",
       "        text-align: right;\n",
       "    }\n",
       "</style>\n",
       "<table border=\"1\" class=\"dataframe\">\n",
       "  <thead>\n",
       "    <tr style=\"text-align: right;\">\n",
       "      <th></th>\n",
       "      <th>id</th>\n",
       "      <th>year</th>\n",
       "      <th>date</th>\n",
       "      <th>day</th>\n",
       "      <th>winner_tie</th>\n",
       "      <th>winner_rank</th>\n",
       "      <th>winner_points</th>\n",
       "      <th>loser_tie</th>\n",
       "      <th>loser_rank</th>\n",
       "      <th>loser_points</th>\n",
       "      <th>attendance</th>\n",
       "      <th>mvp</th>\n",
       "      <th>sponsor</th>\n",
       "      <th>bowl_name</th>\n",
       "    </tr>\n",
       "  </thead>\n",
       "  <tbody>\n",
       "    <tr>\n",
       "      <th>0</th>\n",
       "      <td>1</td>\n",
       "      <td>2021</td>\n",
       "      <td>12/29/2021</td>\n",
       "      <td>Wed</td>\n",
       "      <td>Oklahoma</td>\n",
       "      <td>14</td>\n",
       "      <td>47</td>\n",
       "      <td>Oregon</td>\n",
       "      <td>15</td>\n",
       "      <td>32</td>\n",
       "      <td>59121.0</td>\n",
       "      <td>Oklahoma RB Kennedy Brooks, Oklahoma S Pat Fields</td>\n",
       "      <td>Valero</td>\n",
       "      <td>Alamo Bowl</td>\n",
       "    </tr>\n",
       "    <tr>\n",
       "      <th>1</th>\n",
       "      <td>2</td>\n",
       "      <td>2020</td>\n",
       "      <td>12/29/2020</td>\n",
       "      <td>Tue</td>\n",
       "      <td>Texas</td>\n",
       "      <td>20</td>\n",
       "      <td>55</td>\n",
       "      <td>Colorado</td>\n",
       "      <td>NaN</td>\n",
       "      <td>23</td>\n",
       "      <td>10822.0</td>\n",
       "      <td>Texas RB Bijan Robinson, Texas LB DeMarvion Ov...</td>\n",
       "      <td>Valero</td>\n",
       "      <td>Alamo Bowl</td>\n",
       "    </tr>\n",
       "    <tr>\n",
       "      <th>2</th>\n",
       "      <td>3</td>\n",
       "      <td>2019</td>\n",
       "      <td>12/31/2019</td>\n",
       "      <td>Tue</td>\n",
       "      <td>Texas</td>\n",
       "      <td>NaN</td>\n",
       "      <td>38</td>\n",
       "      <td>Utah</td>\n",
       "      <td>12</td>\n",
       "      <td>10</td>\n",
       "      <td>60147.0</td>\n",
       "      <td>Texas QB Sam Ehlinger, Texas LB Joseph Ossai</td>\n",
       "      <td>Valero</td>\n",
       "      <td>Alamo Bowl</td>\n",
       "    </tr>\n",
       "    <tr>\n",
       "      <th>3</th>\n",
       "      <td>4</td>\n",
       "      <td>2018</td>\n",
       "      <td>12/28/2018</td>\n",
       "      <td>Fri</td>\n",
       "      <td>Washington State</td>\n",
       "      <td>12</td>\n",
       "      <td>28</td>\n",
       "      <td>Iowa State</td>\n",
       "      <td>25</td>\n",
       "      <td>26</td>\n",
       "      <td>60675.0</td>\n",
       "      <td>Washington State QB Gardner Minshew, Washingto...</td>\n",
       "      <td>Valero</td>\n",
       "      <td>Alamo Bowl</td>\n",
       "    </tr>\n",
       "    <tr>\n",
       "      <th>4</th>\n",
       "      <td>5</td>\n",
       "      <td>2017</td>\n",
       "      <td>12/28/2017</td>\n",
       "      <td>Thu</td>\n",
       "      <td>Texas Christian</td>\n",
       "      <td>13</td>\n",
       "      <td>39</td>\n",
       "      <td>Stanford</td>\n",
       "      <td>15</td>\n",
       "      <td>37</td>\n",
       "      <td>57653.0</td>\n",
       "      <td>TCU QB Kenny Hill, TCU LB Travin Howard</td>\n",
       "      <td>Valero</td>\n",
       "      <td>Alamo Bowl</td>\n",
       "    </tr>\n",
       "  </tbody>\n",
       "</table>\n",
       "</div>"
      ],
      "text/plain": [
       "   id  year        date  day        winner_tie winner_rank  winner_points  \\\n",
       "0   1  2021  12/29/2021  Wed          Oklahoma          14             47   \n",
       "1   2  2020  12/29/2020  Tue             Texas          20             55   \n",
       "2   3  2019  12/31/2019  Tue             Texas         NaN             38   \n",
       "3   4  2018  12/28/2018  Fri  Washington State          12             28   \n",
       "4   5  2017  12/28/2017  Thu   Texas Christian          13             39   \n",
       "\n",
       "    loser_tie loser_rank  loser_points  attendance  \\\n",
       "0      Oregon         15            32     59121.0   \n",
       "1    Colorado        NaN            23     10822.0   \n",
       "2        Utah         12            10     60147.0   \n",
       "3  Iowa State         25            26     60675.0   \n",
       "4    Stanford         15            37     57653.0   \n",
       "\n",
       "                                                 mvp sponsor   bowl_name  \n",
       "0  Oklahoma RB Kennedy Brooks, Oklahoma S Pat Fields  Valero  Alamo Bowl  \n",
       "1  Texas RB Bijan Robinson, Texas LB DeMarvion Ov...  Valero  Alamo Bowl  \n",
       "2       Texas QB Sam Ehlinger, Texas LB Joseph Ossai  Valero  Alamo Bowl  \n",
       "3  Washington State QB Gardner Minshew, Washingto...  Valero  Alamo Bowl  \n",
       "4            TCU QB Kenny Hill, TCU LB Travin Howard  Valero  Alamo Bowl  "
      ]
     },
     "execution_count": 3,
     "metadata": {},
     "output_type": "execute_result"
    }
   ],
   "source": [
    "df.head()\n"
   ]
  },
  {
   "cell_type": "code",
   "execution_count": 4,
   "id": "667b9ef5",
   "metadata": {
    "execution": {
     "iopub.execute_input": "2023-11-24T19:35:33.199788Z",
     "iopub.status.busy": "2023-11-24T19:35:33.198752Z",
     "iopub.status.idle": "2023-11-24T19:35:33.219444Z",
     "shell.execute_reply": "2023-11-24T19:35:33.218411Z"
    },
    "papermill": {
     "duration": 0.033782,
     "end_time": "2023-11-24T19:35:33.221858",
     "exception": false,
     "start_time": "2023-11-24T19:35:33.188076",
     "status": "completed"
    },
    "tags": []
   },
   "outputs": [
    {
     "data": {
      "text/html": [
       "<div>\n",
       "<style scoped>\n",
       "    .dataframe tbody tr th:only-of-type {\n",
       "        vertical-align: middle;\n",
       "    }\n",
       "\n",
       "    .dataframe tbody tr th {\n",
       "        vertical-align: top;\n",
       "    }\n",
       "\n",
       "    .dataframe thead th {\n",
       "        text-align: right;\n",
       "    }\n",
       "</style>\n",
       "<table border=\"1\" class=\"dataframe\">\n",
       "  <thead>\n",
       "    <tr style=\"text-align: right;\">\n",
       "      <th></th>\n",
       "      <th>winner_tie</th>\n",
       "      <th>loser_tie</th>\n",
       "      <th>winner_points</th>\n",
       "      <th>loser_points</th>\n",
       "      <th>year</th>\n",
       "      <th>bowl_name</th>\n",
       "    </tr>\n",
       "  </thead>\n",
       "  <tbody>\n",
       "    <tr>\n",
       "      <th>0</th>\n",
       "      <td>Oklahoma</td>\n",
       "      <td>Oregon</td>\n",
       "      <td>47</td>\n",
       "      <td>32</td>\n",
       "      <td>2021</td>\n",
       "      <td>Alamo Bowl</td>\n",
       "    </tr>\n",
       "    <tr>\n",
       "      <th>1</th>\n",
       "      <td>Texas</td>\n",
       "      <td>Colorado</td>\n",
       "      <td>55</td>\n",
       "      <td>23</td>\n",
       "      <td>2020</td>\n",
       "      <td>Alamo Bowl</td>\n",
       "    </tr>\n",
       "    <tr>\n",
       "      <th>2</th>\n",
       "      <td>Texas</td>\n",
       "      <td>Utah</td>\n",
       "      <td>38</td>\n",
       "      <td>10</td>\n",
       "      <td>2019</td>\n",
       "      <td>Alamo Bowl</td>\n",
       "    </tr>\n",
       "    <tr>\n",
       "      <th>3</th>\n",
       "      <td>Washington State</td>\n",
       "      <td>Iowa State</td>\n",
       "      <td>28</td>\n",
       "      <td>26</td>\n",
       "      <td>2018</td>\n",
       "      <td>Alamo Bowl</td>\n",
       "    </tr>\n",
       "    <tr>\n",
       "      <th>4</th>\n",
       "      <td>Texas Christian</td>\n",
       "      <td>Stanford</td>\n",
       "      <td>39</td>\n",
       "      <td>37</td>\n",
       "      <td>2017</td>\n",
       "      <td>Alamo Bowl</td>\n",
       "    </tr>\n",
       "  </tbody>\n",
       "</table>\n",
       "</div>"
      ],
      "text/plain": [
       "         winner_tie   loser_tie  winner_points  loser_points  year   bowl_name\n",
       "0          Oklahoma      Oregon             47            32  2021  Alamo Bowl\n",
       "1             Texas    Colorado             55            23  2020  Alamo Bowl\n",
       "2             Texas        Utah             38            10  2019  Alamo Bowl\n",
       "3  Washington State  Iowa State             28            26  2018  Alamo Bowl\n",
       "4   Texas Christian    Stanford             39            37  2017  Alamo Bowl"
      ]
     },
     "execution_count": 4,
     "metadata": {},
     "output_type": "execute_result"
    }
   ],
   "source": [
    "df = df[['winner_tie', 'loser_tie','winner_points', 'loser_points', 'year', 'bowl_name']]\n",
    "df.head()"
   ]
  },
  {
   "cell_type": "code",
   "execution_count": 5,
   "id": "e05bf768",
   "metadata": {
    "execution": {
     "iopub.execute_input": "2023-11-24T19:35:33.243352Z",
     "iopub.status.busy": "2023-11-24T19:35:33.242952Z",
     "iopub.status.idle": "2023-11-24T19:35:33.249465Z",
     "shell.execute_reply": "2023-11-24T19:35:33.248531Z"
    },
    "papermill": {
     "duration": 0.019972,
     "end_time": "2023-11-24T19:35:33.251662",
     "exception": false,
     "start_time": "2023-11-24T19:35:33.231690",
     "status": "completed"
    },
    "tags": []
   },
   "outputs": [],
   "source": [
    "df_subset1 = df.loc[df['winner_tie'] == 'Oregon']"
   ]
  },
  {
   "cell_type": "code",
   "execution_count": 6,
   "id": "3bc43df2",
   "metadata": {
    "execution": {
     "iopub.execute_input": "2023-11-24T19:35:33.272918Z",
     "iopub.status.busy": "2023-11-24T19:35:33.272482Z",
     "iopub.status.idle": "2023-11-24T19:35:33.279031Z",
     "shell.execute_reply": "2023-11-24T19:35:33.277970Z"
    },
    "papermill": {
     "duration": 0.019561,
     "end_time": "2023-11-24T19:35:33.281182",
     "exception": false,
     "start_time": "2023-11-24T19:35:33.261621",
     "status": "completed"
    },
    "tags": []
   },
   "outputs": [],
   "source": [
    "df_subset2 = df.loc[df['loser_tie'] == 'Oregon']"
   ]
  },
  {
   "cell_type": "code",
   "execution_count": 7,
   "id": "73d794e5",
   "metadata": {
    "execution": {
     "iopub.execute_input": "2023-11-24T19:35:33.303704Z",
     "iopub.status.busy": "2023-11-24T19:35:33.303275Z",
     "iopub.status.idle": "2023-11-24T19:35:33.310330Z",
     "shell.execute_reply": "2023-11-24T19:35:33.309312Z"
    },
    "papermill": {
     "duration": 0.020956,
     "end_time": "2023-11-24T19:35:33.312392",
     "exception": false,
     "start_time": "2023-11-24T19:35:33.291436",
     "status": "completed"
    },
    "tags": []
   },
   "outputs": [],
   "source": [
    "df['winner_points'] = df['winner_points'].astype('int')\n",
    "df['loser_points'] = df['loser_points'].astype('int')"
   ]
  },
  {
   "cell_type": "code",
   "execution_count": 8,
   "id": "e3bf6704",
   "metadata": {
    "execution": {
     "iopub.execute_input": "2023-11-24T19:35:33.334122Z",
     "iopub.status.busy": "2023-11-24T19:35:33.333733Z",
     "iopub.status.idle": "2023-11-24T19:35:33.346324Z",
     "shell.execute_reply": "2023-11-24T19:35:33.345629Z"
    },
    "papermill": {
     "duration": 0.025762,
     "end_time": "2023-11-24T19:35:33.348227",
     "exception": false,
     "start_time": "2023-11-24T19:35:33.322465",
     "status": "completed"
    },
    "tags": []
   },
   "outputs": [
    {
     "data": {
      "text/html": [
       "<div>\n",
       "<style scoped>\n",
       "    .dataframe tbody tr th:only-of-type {\n",
       "        vertical-align: middle;\n",
       "    }\n",
       "\n",
       "    .dataframe tbody tr th {\n",
       "        vertical-align: top;\n",
       "    }\n",
       "\n",
       "    .dataframe thead th {\n",
       "        text-align: right;\n",
       "    }\n",
       "</style>\n",
       "<table border=\"1\" class=\"dataframe\">\n",
       "  <thead>\n",
       "    <tr style=\"text-align: right;\">\n",
       "      <th></th>\n",
       "      <th>winner_tie</th>\n",
       "      <th>loser_tie</th>\n",
       "      <th>winner_points</th>\n",
       "      <th>loser_points</th>\n",
       "      <th>year</th>\n",
       "      <th>bowl_name</th>\n",
       "      <th>point_differential</th>\n",
       "    </tr>\n",
       "  </thead>\n",
       "  <tbody>\n",
       "    <tr>\n",
       "      <th>0</th>\n",
       "      <td>Oklahoma</td>\n",
       "      <td>Oregon</td>\n",
       "      <td>47</td>\n",
       "      <td>32</td>\n",
       "      <td>2021</td>\n",
       "      <td>Alamo Bowl</td>\n",
       "      <td>15</td>\n",
       "    </tr>\n",
       "    <tr>\n",
       "      <th>1</th>\n",
       "      <td>Texas</td>\n",
       "      <td>Colorado</td>\n",
       "      <td>55</td>\n",
       "      <td>23</td>\n",
       "      <td>2020</td>\n",
       "      <td>Alamo Bowl</td>\n",
       "      <td>32</td>\n",
       "    </tr>\n",
       "    <tr>\n",
       "      <th>2</th>\n",
       "      <td>Texas</td>\n",
       "      <td>Utah</td>\n",
       "      <td>38</td>\n",
       "      <td>10</td>\n",
       "      <td>2019</td>\n",
       "      <td>Alamo Bowl</td>\n",
       "      <td>28</td>\n",
       "    </tr>\n",
       "    <tr>\n",
       "      <th>3</th>\n",
       "      <td>Washington State</td>\n",
       "      <td>Iowa State</td>\n",
       "      <td>28</td>\n",
       "      <td>26</td>\n",
       "      <td>2018</td>\n",
       "      <td>Alamo Bowl</td>\n",
       "      <td>2</td>\n",
       "    </tr>\n",
       "    <tr>\n",
       "      <th>4</th>\n",
       "      <td>Texas Christian</td>\n",
       "      <td>Stanford</td>\n",
       "      <td>39</td>\n",
       "      <td>37</td>\n",
       "      <td>2017</td>\n",
       "      <td>Alamo Bowl</td>\n",
       "      <td>2</td>\n",
       "    </tr>\n",
       "  </tbody>\n",
       "</table>\n",
       "</div>"
      ],
      "text/plain": [
       "         winner_tie   loser_tie  winner_points  loser_points  year  \\\n",
       "0          Oklahoma      Oregon             47            32  2021   \n",
       "1             Texas    Colorado             55            23  2020   \n",
       "2             Texas        Utah             38            10  2019   \n",
       "3  Washington State  Iowa State             28            26  2018   \n",
       "4   Texas Christian    Stanford             39            37  2017   \n",
       "\n",
       "    bowl_name  point_differential  \n",
       "0  Alamo Bowl                  15  \n",
       "1  Alamo Bowl                  32  \n",
       "2  Alamo Bowl                  28  \n",
       "3  Alamo Bowl                   2  \n",
       "4  Alamo Bowl                   2  "
      ]
     },
     "execution_count": 8,
     "metadata": {},
     "output_type": "execute_result"
    }
   ],
   "source": [
    "df['point_differential'] = df['winner_points'] - df['loser_points']\n",
    "df.head()"
   ]
  },
  {
   "cell_type": "code",
   "execution_count": 9,
   "id": "5b64712e",
   "metadata": {
    "execution": {
     "iopub.execute_input": "2023-11-24T19:35:33.369837Z",
     "iopub.status.busy": "2023-11-24T19:35:33.369421Z",
     "iopub.status.idle": "2023-11-24T19:35:33.383099Z",
     "shell.execute_reply": "2023-11-24T19:35:33.382332Z"
    },
    "papermill": {
     "duration": 0.027071,
     "end_time": "2023-11-24T19:35:33.385205",
     "exception": false,
     "start_time": "2023-11-24T19:35:33.358134",
     "status": "completed"
    },
    "tags": []
   },
   "outputs": [
    {
     "data": {
      "text/html": [
       "<div>\n",
       "<style scoped>\n",
       "    .dataframe tbody tr th:only-of-type {\n",
       "        vertical-align: middle;\n",
       "    }\n",
       "\n",
       "    .dataframe tbody tr th {\n",
       "        vertical-align: top;\n",
       "    }\n",
       "\n",
       "    .dataframe thead th {\n",
       "        text-align: right;\n",
       "    }\n",
       "</style>\n",
       "<table border=\"1\" class=\"dataframe\">\n",
       "  <thead>\n",
       "    <tr style=\"text-align: right;\">\n",
       "      <th></th>\n",
       "      <th>winner_tie</th>\n",
       "      <th>loser_tie</th>\n",
       "      <th>winner_points</th>\n",
       "      <th>loser_points</th>\n",
       "      <th>year</th>\n",
       "      <th>bowl_name</th>\n",
       "      <th>point_differential</th>\n",
       "    </tr>\n",
       "  </thead>\n",
       "  <tbody>\n",
       "    <tr>\n",
       "      <th>0</th>\n",
       "      <td>Oklahoma</td>\n",
       "      <td>Oregon</td>\n",
       "      <td>47</td>\n",
       "      <td>32</td>\n",
       "      <td>2021</td>\n",
       "      <td>Alamo Bowl</td>\n",
       "      <td>15</td>\n",
       "    </tr>\n",
       "    <tr>\n",
       "      <th>1</th>\n",
       "      <td>Texas</td>\n",
       "      <td>Colorado</td>\n",
       "      <td>55</td>\n",
       "      <td>23</td>\n",
       "      <td>2020</td>\n",
       "      <td>Alamo Bowl</td>\n",
       "      <td>32</td>\n",
       "    </tr>\n",
       "    <tr>\n",
       "      <th>2</th>\n",
       "      <td>Texas</td>\n",
       "      <td>Utah</td>\n",
       "      <td>38</td>\n",
       "      <td>10</td>\n",
       "      <td>2019</td>\n",
       "      <td>Alamo Bowl</td>\n",
       "      <td>28</td>\n",
       "    </tr>\n",
       "    <tr>\n",
       "      <th>3</th>\n",
       "      <td>Washington State</td>\n",
       "      <td>Iowa State</td>\n",
       "      <td>28</td>\n",
       "      <td>26</td>\n",
       "      <td>2018</td>\n",
       "      <td>Alamo Bowl</td>\n",
       "      <td>2</td>\n",
       "    </tr>\n",
       "    <tr>\n",
       "      <th>4</th>\n",
       "      <td>Texas Christian</td>\n",
       "      <td>Stanford</td>\n",
       "      <td>39</td>\n",
       "      <td>37</td>\n",
       "      <td>2017</td>\n",
       "      <td>Alamo Bowl</td>\n",
       "      <td>2</td>\n",
       "    </tr>\n",
       "  </tbody>\n",
       "</table>\n",
       "</div>"
      ],
      "text/plain": [
       "         winner_tie   loser_tie  winner_points  loser_points  year  \\\n",
       "0          Oklahoma      Oregon             47            32  2021   \n",
       "1             Texas    Colorado             55            23  2020   \n",
       "2             Texas        Utah             38            10  2019   \n",
       "3  Washington State  Iowa State             28            26  2018   \n",
       "4   Texas Christian    Stanford             39            37  2017   \n",
       "\n",
       "    bowl_name  point_differential  \n",
       "0  Alamo Bowl                  15  \n",
       "1  Alamo Bowl                  32  \n",
       "2  Alamo Bowl                  28  \n",
       "3  Alamo Bowl                   2  \n",
       "4  Alamo Bowl                   2  "
      ]
     },
     "execution_count": 9,
     "metadata": {},
     "output_type": "execute_result"
    }
   ],
   "source": [
    "df = df[['winner_tie', 'loser_tie','winner_points', 'loser_points', 'year', 'bowl_name', 'point_differential']]\n",
    "df.head()"
   ]
  },
  {
   "cell_type": "code",
   "execution_count": 10,
   "id": "4d195d81",
   "metadata": {
    "execution": {
     "iopub.execute_input": "2023-11-24T19:35:33.407064Z",
     "iopub.status.busy": "2023-11-24T19:35:33.406674Z",
     "iopub.status.idle": "2023-11-24T19:35:33.419886Z",
     "shell.execute_reply": "2023-11-24T19:35:33.419174Z"
    },
    "papermill": {
     "duration": 0.026491,
     "end_time": "2023-11-24T19:35:33.421773",
     "exception": false,
     "start_time": "2023-11-24T19:35:33.395282",
     "status": "completed"
    },
    "tags": []
   },
   "outputs": [
    {
     "data": {
      "text/html": [
       "<div>\n",
       "<style scoped>\n",
       "    .dataframe tbody tr th:only-of-type {\n",
       "        vertical-align: middle;\n",
       "    }\n",
       "\n",
       "    .dataframe tbody tr th {\n",
       "        vertical-align: top;\n",
       "    }\n",
       "\n",
       "    .dataframe thead th {\n",
       "        text-align: right;\n",
       "    }\n",
       "</style>\n",
       "<table border=\"1\" class=\"dataframe\">\n",
       "  <thead>\n",
       "    <tr style=\"text-align: right;\">\n",
       "      <th></th>\n",
       "      <th>winner_tie</th>\n",
       "      <th>loser_tie</th>\n",
       "      <th>winner_points</th>\n",
       "      <th>loser_points</th>\n",
       "      <th>year</th>\n",
       "      <th>bowl_name</th>\n",
       "      <th>point_differential</th>\n",
       "    </tr>\n",
       "  </thead>\n",
       "  <tbody>\n",
       "    <tr>\n",
       "      <th>8</th>\n",
       "      <td>Oregon</td>\n",
       "      <td>Texas</td>\n",
       "      <td>30</td>\n",
       "      <td>7</td>\n",
       "      <td>2013</td>\n",
       "      <td>Alamo Bowl</td>\n",
       "      <td>23</td>\n",
       "    </tr>\n",
       "    <tr>\n",
       "      <th>345</th>\n",
       "      <td>Oregon</td>\n",
       "      <td>Kansas State</td>\n",
       "      <td>35</td>\n",
       "      <td>17</td>\n",
       "      <td>2012</td>\n",
       "      <td>Fiesta Bowl</td>\n",
       "      <td>18</td>\n",
       "    </tr>\n",
       "    <tr>\n",
       "      <th>356</th>\n",
       "      <td>Oregon</td>\n",
       "      <td>Colorado</td>\n",
       "      <td>38</td>\n",
       "      <td>16</td>\n",
       "      <td>2001</td>\n",
       "      <td>Fiesta Bowl</td>\n",
       "      <td>22</td>\n",
       "    </tr>\n",
       "    <tr>\n",
       "      <th>534</th>\n",
       "      <td>Oregon</td>\n",
       "      <td>Tulsa</td>\n",
       "      <td>27</td>\n",
       "      <td>24</td>\n",
       "      <td>1989</td>\n",
       "      <td>Independence Bowl</td>\n",
       "      <td>3</td>\n",
       "    </tr>\n",
       "    <tr>\n",
       "      <th>572</th>\n",
       "      <td>Oregon</td>\n",
       "      <td>Air Force</td>\n",
       "      <td>41</td>\n",
       "      <td>13</td>\n",
       "      <td>1997</td>\n",
       "      <td>Las Vegas Bowl</td>\n",
       "      <td>28</td>\n",
       "    </tr>\n",
       "  </tbody>\n",
       "</table>\n",
       "</div>"
      ],
      "text/plain": [
       "    winner_tie     loser_tie  winner_points  loser_points  year  \\\n",
       "8       Oregon         Texas             30             7  2013   \n",
       "345     Oregon  Kansas State             35            17  2012   \n",
       "356     Oregon      Colorado             38            16  2001   \n",
       "534     Oregon         Tulsa             27            24  1989   \n",
       "572     Oregon     Air Force             41            13  1997   \n",
       "\n",
       "             bowl_name  point_differential  \n",
       "8           Alamo Bowl                  23  \n",
       "345        Fiesta Bowl                  18  \n",
       "356        Fiesta Bowl                  22  \n",
       "534  Independence Bowl                   3  \n",
       "572     Las Vegas Bowl                  28  "
      ]
     },
     "execution_count": 10,
     "metadata": {},
     "output_type": "execute_result"
    }
   ],
   "source": [
    "df_subset1 = df.loc[df['winner_tie'] == 'Oregon']\n",
    "df_subset1.head()"
   ]
  },
  {
   "cell_type": "code",
   "execution_count": 11,
   "id": "ede7502c",
   "metadata": {
    "execution": {
     "iopub.execute_input": "2023-11-24T19:35:33.445247Z",
     "iopub.status.busy": "2023-11-24T19:35:33.444209Z",
     "iopub.status.idle": "2023-11-24T19:35:33.457705Z",
     "shell.execute_reply": "2023-11-24T19:35:33.456804Z"
    },
    "papermill": {
     "duration": 0.028063,
     "end_time": "2023-11-24T19:35:33.460003",
     "exception": false,
     "start_time": "2023-11-24T19:35:33.431940",
     "status": "completed"
    },
    "tags": []
   },
   "outputs": [
    {
     "data": {
      "text/html": [
       "<div>\n",
       "<style scoped>\n",
       "    .dataframe tbody tr th:only-of-type {\n",
       "        vertical-align: middle;\n",
       "    }\n",
       "\n",
       "    .dataframe tbody tr th {\n",
       "        vertical-align: top;\n",
       "    }\n",
       "\n",
       "    .dataframe thead th {\n",
       "        text-align: right;\n",
       "    }\n",
       "</style>\n",
       "<table border=\"1\" class=\"dataframe\">\n",
       "  <thead>\n",
       "    <tr style=\"text-align: right;\">\n",
       "      <th></th>\n",
       "      <th>winner_tie</th>\n",
       "      <th>loser_tie</th>\n",
       "      <th>winner_points</th>\n",
       "      <th>loser_points</th>\n",
       "      <th>year</th>\n",
       "      <th>bowl_name</th>\n",
       "      <th>point_differential</th>\n",
       "    </tr>\n",
       "  </thead>\n",
       "  <tbody>\n",
       "    <tr>\n",
       "      <th>0</th>\n",
       "      <td>Oklahoma</td>\n",
       "      <td>Oregon</td>\n",
       "      <td>47</td>\n",
       "      <td>32</td>\n",
       "      <td>2021</td>\n",
       "      <td>Alamo Bowl</td>\n",
       "      <td>15</td>\n",
       "    </tr>\n",
       "    <tr>\n",
       "      <th>6</th>\n",
       "      <td>Texas Christian</td>\n",
       "      <td>Oregon</td>\n",
       "      <td>47</td>\n",
       "      <td>41</td>\n",
       "      <td>2015</td>\n",
       "      <td>Alamo Bowl</td>\n",
       "      <td>6</td>\n",
       "    </tr>\n",
       "    <tr>\n",
       "      <th>215</th>\n",
       "      <td>Ohio State</td>\n",
       "      <td>Oregon</td>\n",
       "      <td>42</td>\n",
       "      <td>20</td>\n",
       "      <td>2014</td>\n",
       "      <td>College Football Championship</td>\n",
       "      <td>22</td>\n",
       "    </tr>\n",
       "    <tr>\n",
       "      <th>242</th>\n",
       "      <td>Colorado</td>\n",
       "      <td>Oregon</td>\n",
       "      <td>38</td>\n",
       "      <td>6</td>\n",
       "      <td>1995</td>\n",
       "      <td>Cotton Bowl</td>\n",
       "      <td>32</td>\n",
       "    </tr>\n",
       "    <tr>\n",
       "      <th>289</th>\n",
       "      <td>Southern Methodist</td>\n",
       "      <td>Oregon</td>\n",
       "      <td>21</td>\n",
       "      <td>13</td>\n",
       "      <td>1948</td>\n",
       "      <td>Cotton Bowl</td>\n",
       "      <td>8</td>\n",
       "    </tr>\n",
       "  </tbody>\n",
       "</table>\n",
       "</div>"
      ],
      "text/plain": [
       "             winner_tie loser_tie  winner_points  loser_points  year  \\\n",
       "0              Oklahoma    Oregon             47            32  2021   \n",
       "6       Texas Christian    Oregon             47            41  2015   \n",
       "215          Ohio State    Oregon             42            20  2014   \n",
       "242            Colorado    Oregon             38             6  1995   \n",
       "289  Southern Methodist    Oregon             21            13  1948   \n",
       "\n",
       "                         bowl_name  point_differential  \n",
       "0                       Alamo Bowl                  15  \n",
       "6                       Alamo Bowl                   6  \n",
       "215  College Football Championship                  22  \n",
       "242                    Cotton Bowl                  32  \n",
       "289                    Cotton Bowl                   8  "
      ]
     },
     "execution_count": 11,
     "metadata": {},
     "output_type": "execute_result"
    }
   ],
   "source": [
    "df_subset2 = df.loc[df['loser_tie'] == 'Oregon']\n",
    "df_subset2.head()"
   ]
  },
  {
   "cell_type": "markdown",
   "id": "0f9f03d9",
   "metadata": {
    "papermill": {
     "duration": 0.010436,
     "end_time": "2023-11-24T19:35:33.481284",
     "exception": false,
     "start_time": "2023-11-24T19:35:33.470848",
     "status": "completed"
    },
    "tags": []
   },
   "source": [
    "#Oregon has 15 wins in bowl games.\n",
    "#len function was used to count the rows in df_subset1 which filters to game which oregon won."
   ]
  },
  {
   "cell_type": "code",
   "execution_count": 12,
   "id": "e33cd08d",
   "metadata": {
    "execution": {
     "iopub.execute_input": "2023-11-24T19:35:33.504925Z",
     "iopub.status.busy": "2023-11-24T19:35:33.504535Z",
     "iopub.status.idle": "2023-11-24T19:35:33.509516Z",
     "shell.execute_reply": "2023-11-24T19:35:33.508561Z"
    },
    "papermill": {
     "duration": 0.019965,
     "end_time": "2023-11-24T19:35:33.512204",
     "exception": false,
     "start_time": "2023-11-24T19:35:33.492239",
     "status": "completed"
    },
    "tags": []
   },
   "outputs": [
    {
     "name": "stdout",
     "output_type": "stream",
     "text": [
      "Oregon has 15 bowl wins.\n"
     ]
    }
   ],
   "source": [
    "row_count = len(df_subset1)\n",
    "print(f'Oregon has {row_count} bowl wins.')"
   ]
  },
  {
   "cell_type": "markdown",
   "id": "b9e9af3b",
   "metadata": {
    "papermill": {
     "duration": 0.010381,
     "end_time": "2023-11-24T19:35:33.533769",
     "exception": false,
     "start_time": "2023-11-24T19:35:33.523388",
     "status": "completed"
    },
    "tags": []
   },
   "source": [
    "#Oregon has 20 bowl loses\n",
    "#len function was used to count rows in df_subset2 whic is filtered to bowl games oregon has lost."
   ]
  },
  {
   "cell_type": "code",
   "execution_count": 13,
   "id": "efc9016e",
   "metadata": {
    "execution": {
     "iopub.execute_input": "2023-11-24T19:35:33.557317Z",
     "iopub.status.busy": "2023-11-24T19:35:33.556981Z",
     "iopub.status.idle": "2023-11-24T19:35:33.561751Z",
     "shell.execute_reply": "2023-11-24T19:35:33.560848Z"
    },
    "papermill": {
     "duration": 0.019745,
     "end_time": "2023-11-24T19:35:33.564301",
     "exception": false,
     "start_time": "2023-11-24T19:35:33.544556",
     "status": "completed"
    },
    "tags": []
   },
   "outputs": [
    {
     "name": "stdout",
     "output_type": "stream",
     "text": [
      "Oregon has 20 bowl loses.\n"
     ]
    }
   ],
   "source": [
    "row_countL = len(df_subset2)\n",
    "print(f'Oregon has {row_countL} bowl loses.')"
   ]
  },
  {
   "cell_type": "code",
   "execution_count": 14,
   "id": "2f0f78f7",
   "metadata": {
    "execution": {
     "iopub.execute_input": "2023-11-24T19:35:33.588268Z",
     "iopub.status.busy": "2023-11-24T19:35:33.587912Z",
     "iopub.status.idle": "2023-11-24T19:35:33.593806Z",
     "shell.execute_reply": "2023-11-24T19:35:33.592762Z"
    },
    "papermill": {
     "duration": 0.020879,
     "end_time": "2023-11-24T19:35:33.595980",
     "exception": false,
     "start_time": "2023-11-24T19:35:33.575101",
     "status": "completed"
    },
    "tags": []
   },
   "outputs": [
    {
     "name": "stdout",
     "output_type": "stream",
     "text": [
      "8              Alamo Bowl\n",
      "345           Fiesta Bowl\n",
      "356           Fiesta Bowl\n",
      "534     Independence Bowl\n",
      "572        Las Vegas Bowl\n",
      "915             Rose Bowl\n",
      "920             Rose Bowl\n",
      "923             Rose Bowl\n",
      "1018            Rose Bowl\n",
      "1154             Sun Bowl\n",
      "1162             Sun Bowl\n",
      "1198             Sun Bowl\n",
      "1347          Redbox Bowl\n",
      "1415         Holiday Bowl\n",
      "1423         Holiday Bowl\n",
      "Name: bowl_name, dtype: object\n"
     ]
    }
   ],
   "source": [
    "print(df_subset1['bowl_name'])"
   ]
  },
  {
   "cell_type": "markdown",
   "id": "f1d5dbd1",
   "metadata": {
    "papermill": {
     "duration": 0.010988,
     "end_time": "2023-11-24T19:35:33.618063",
     "exception": false,
     "start_time": "2023-11-24T19:35:33.607075",
     "status": "completed"
    },
    "tags": []
   },
   "source": [
    "#four appearances/wins in the Rose Bowl\n",
    "#three appearances/wins in the Sun Bowl\n",
    "#two appearances/wins in the Fiesta/Holiday Bowls"
   ]
  },
  {
   "cell_type": "markdown",
   "id": "f609894d",
   "metadata": {
    "papermill": {
     "duration": 0.010872,
     "end_time": "2023-11-24T19:35:33.639909",
     "exception": false,
     "start_time": "2023-11-24T19:35:33.629037",
     "status": "completed"
    },
    "tags": []
   },
   "source": [
    "#Answer to how which bowl game oregon has appeared in the most."
   ]
  },
  {
   "cell_type": "code",
   "execution_count": 15,
   "id": "70a54a40",
   "metadata": {
    "execution": {
     "iopub.execute_input": "2023-11-24T19:35:33.664225Z",
     "iopub.status.busy": "2023-11-24T19:35:33.663841Z",
     "iopub.status.idle": "2023-11-24T19:35:33.669779Z",
     "shell.execute_reply": "2023-11-24T19:35:33.668672Z"
    },
    "papermill": {
     "duration": 0.021185,
     "end_time": "2023-11-24T19:35:33.672299",
     "exception": false,
     "start_time": "2023-11-24T19:35:33.651114",
     "status": "completed"
    },
    "tags": []
   },
   "outputs": [
    {
     "name": "stdout",
     "output_type": "stream",
     "text": [
      "0                          Alamo Bowl\n",
      "6                          Alamo Bowl\n",
      "215     College Football Championship\n",
      "242                       Cotton Bowl\n",
      "289                       Cotton Bowl\n",
      "337                       Fiesta Bowl\n",
      "531                 Independence Bowl\n",
      "552                    Las Vegas Bowl\n",
      "563                    Las Vegas Bowl\n",
      "639                      Liberty Bowl\n",
      "925                         Rose Bowl\n",
      "940                         Rose Bowl\n",
      "977                         Rose Bowl\n",
      "1015                        Rose Bowl\n",
      "1158                         Sun Bowl\n",
      "1244                    Aloha Classic\n",
      "1272                 BCS Championship\n",
      "1369                     Freedom Bowl\n",
      "1418                     Holiday Bowl\n",
      "1516                     Seattle Bowl\n",
      "Name: bowl_name, dtype: object\n"
     ]
    }
   ],
   "source": [
    "print(df_subset2['bowl_name'])"
   ]
  },
  {
   "cell_type": "markdown",
   "id": "f321a64d",
   "metadata": {
    "papermill": {
     "duration": 0.01146,
     "end_time": "2023-11-24T19:35:33.695079",
     "exception": false,
     "start_time": "2023-11-24T19:35:33.683619",
     "status": "completed"
    },
    "tags": []
   },
   "source": [
    "#four appearances/loses in the Rose Bowl"
   ]
  },
  {
   "cell_type": "code",
   "execution_count": 16,
   "id": "fd1b39ea",
   "metadata": {
    "execution": {
     "iopub.execute_input": "2023-11-24T19:35:33.719776Z",
     "iopub.status.busy": "2023-11-24T19:35:33.718691Z",
     "iopub.status.idle": "2023-11-24T19:35:33.726719Z",
     "shell.execute_reply": "2023-11-24T19:35:33.725538Z"
    },
    "papermill": {
     "duration": 0.022625,
     "end_time": "2023-11-24T19:35:33.728822",
     "exception": false,
     "start_time": "2023-11-24T19:35:33.706197",
     "status": "completed"
    },
    "tags": []
   },
   "outputs": [
    {
     "name": "stdout",
     "output_type": "stream",
     "text": [
      "point_differential    14.533333\n",
      "dtype: float64\n"
     ]
    }
   ],
   "source": [
    "print(df_subset1[['point_differential']].mean(axis=0))"
   ]
  },
  {
   "cell_type": "markdown",
   "id": "aa094388",
   "metadata": {
    "papermill": {
     "duration": 0.010765,
     "end_time": "2023-11-24T19:35:33.751158",
     "exception": false,
     "start_time": "2023-11-24T19:35:33.740393",
     "status": "completed"
    },
    "tags": []
   },
   "source": [
    "#average point differential in a bowl Oregon has won is 14.53 points."
   ]
  },
  {
   "cell_type": "code",
   "execution_count": 17,
   "id": "6ed74a5c",
   "metadata": {
    "execution": {
     "iopub.execute_input": "2023-11-24T19:35:33.835853Z",
     "iopub.status.busy": "2023-11-24T19:35:33.835468Z",
     "iopub.status.idle": "2023-11-24T19:35:33.843380Z",
     "shell.execute_reply": "2023-11-24T19:35:33.842368Z"
    },
    "papermill": {
     "duration": 0.083571,
     "end_time": "2023-11-24T19:35:33.846338",
     "exception": false,
     "start_time": "2023-11-24T19:35:33.762767",
     "status": "completed"
    },
    "tags": []
   },
   "outputs": [
    {
     "name": "stdout",
     "output_type": "stream",
     "text": [
      "point_differential    12.05\n",
      "dtype: float64\n"
     ]
    }
   ],
   "source": [
    "print(df_subset2[['point_differential']].mean(axis=0))"
   ]
  },
  {
   "cell_type": "markdown",
   "id": "184f4b70",
   "metadata": {
    "papermill": {
     "duration": 0.011508,
     "end_time": "2023-11-24T19:35:33.869228",
     "exception": false,
     "start_time": "2023-11-24T19:35:33.857720",
     "status": "completed"
    },
    "tags": []
   },
   "source": [
    "#The average point differential in a bowl game Oregon has lost is 12.05 points."
   ]
  },
  {
   "cell_type": "code",
   "execution_count": 18,
   "id": "039fb1ef",
   "metadata": {
    "execution": {
     "iopub.execute_input": "2023-11-24T19:35:33.894348Z",
     "iopub.status.busy": "2023-11-24T19:35:33.893959Z",
     "iopub.status.idle": "2023-11-24T19:35:34.362983Z",
     "shell.execute_reply": "2023-11-24T19:35:34.361908Z"
    },
    "papermill": {
     "duration": 0.484177,
     "end_time": "2023-11-24T19:35:34.365295",
     "exception": false,
     "start_time": "2023-11-24T19:35:33.881118",
     "status": "completed"
    },
    "tags": []
   },
   "outputs": [
    {
     "data": {
      "text/plain": [
       "<Axes: xlabel='year'>"
      ]
     },
     "execution_count": 18,
     "metadata": {},
     "output_type": "execute_result"
    },
    {
     "data": {
      "image/png": "[encoded data removed]",
      "text/plain": [
       "<Figure size 640x480 with 1 Axes>"
      ]
     },
     "metadata": {},
     "output_type": "display_data"
    }
   ],
   "source": [
    "ax = plt.gca()\n",
    "# bar for winner points in games Oregon won.\n",
    "df_subset1.plot(kind='bar', \n",
    "        x='year', \n",
    "        y='winner_points', \n",
    "        color='green', ax=ax) \n",
    "  \n",
    "# bar for loser points in games Oregon won.\n",
    "df_subset1.plot(kind='bar', x='year', \n",
    "        y='loser_points', \n",
    "        color='blue', ax=ax)"
   ]
  },
  {
   "cell_type": "code",
   "execution_count": 19,
   "id": "9c335453",
   "metadata": {
    "execution": {
     "iopub.execute_input": "2023-11-24T19:35:34.391658Z",
     "iopub.status.busy": "2023-11-24T19:35:34.391255Z",
     "iopub.status.idle": "2023-11-24T19:35:34.812117Z",
     "shell.execute_reply": "2023-11-24T19:35:34.811307Z"
    },
    "papermill": {
     "duration": 0.43666,
     "end_time": "2023-11-24T19:35:34.814721",
     "exception": false,
     "start_time": "2023-11-24T19:35:34.378061",
     "status": "completed"
    },
    "tags": []
   },
   "outputs": [
    {
     "data": {
      "text/plain": [
       "<Axes: xlabel='year'>"
      ]
     },
     "execution_count": 19,
     "metadata": {},
     "output_type": "execute_result"
    },
    {
     "data": {
      "image/png": "[encoded data removed]",
      "text/plain": [
       "<Figure size 640x480 with 1 Axes>"
      ]
     },
     "metadata": {},
     "output_type": "display_data"
    }
   ],
   "source": [
    "ax = plt.gca()\n",
    "# bar for winner points in games Oregon lost.\n",
    "df_subset1.plot(kind='bar', \n",
    "        x='year', \n",
    "        y='winner_points', \n",
    "        color='blue', ax=ax) \n",
    "  \n",
    "# bar for loser points in games Oregon lost.\n",
    "df_subset1.plot(kind='bar', x='year', \n",
    "        y='loser_points', \n",
    "        color='green', ax=ax)"
   ]
  }
 ],
 "metadata": {
  "kaggle": {
   "accelerator": "none",
   "dataSources": [
    {
     "datasetId": 2306501,
     "sourceId": 3881460,
     "sourceType": "datasetVersion"
    }
   ],
   "dockerImageVersionId": 30587,
   "isGpuEnabled": false,
   "isInternetEnabled": false,
   "language": "python",
   "sourceType": "notebook"
  },
  "kernelspec": {
   "display_name": "Python 3",
   "language": "python",
   "name": "python3"
  },
  "language_info": {
   "codemirror_mode": {
    "name": "ipython",
    "version": 3
   },
   "file_extension": ".py",
   "mimetype": "text/x-python",
   "name": "python",
   "nbconvert_exporter": "python",
   "pygments_lexer": "ipython3",
   "version": "3.10.12"
  },
  "papermill": {
   "default_parameters": {},
   "duration": 6.101243,
   "end_time": "2023-11-24T19:35:35.349449",
   "environment_variables": {},
   "exception": null,
   "input_path": "__notebook__.ipynb",
   "output_path": "__notebook__.ipynb",
   "parameters": {},
   "start_time": "2023-11-24T19:35:29.248206",
   "version": "2.4.0"
  }
 },
 "nbformat": 4,
 "nbformat_minor": 5
}
